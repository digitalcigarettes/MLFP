{
 "cells": [
  {
   "cell_type": "code",
   "execution_count": 3,
   "id": "f9488957",
   "metadata": {},
   "outputs": [],
   "source": [
    "import pandas as pd\n",
    "import os"
   ]
  },
  {
   "cell_type": "code",
   "execution_count": 9,
   "id": "140adaa6",
   "metadata": {},
   "outputs": [
    {
     "name": "stdout",
     "output_type": "stream",
     "text": [
      "<bound method NDFrame.head of     tweet_id     author_id  inbound                      created_at  \\\n",
      "0     119237        105834     True  Wed Oct 11 06:55:44 +0000 2017   \n",
      "1     119238  ChaseSupport    False  Wed Oct 11 13:25:49 +0000 2017   \n",
      "2     119239        105835     True  Wed Oct 11 13:00:09 +0000 2017   \n",
      "3     119240  VirginTrains    False  Tue Oct 10 15:16:08 +0000 2017   \n",
      "4     119241        105836     True  Tue Oct 10 15:17:21 +0000 2017   \n",
      "..       ...           ...      ...                             ...   \n",
      "88    119330        105859     True  Wed Oct 11 13:50:42 +0000 2017   \n",
      "89    119331        105860     True  Wed Oct 11 13:47:14 +0000 2017   \n",
      "90    119332         Tesco    False  Wed Oct 11 13:34:06 +0000 2017   \n",
      "91    119333        105861     True  Wed Oct 11 14:05:18 +0000 2017   \n",
      "92    119335         Tesco    False  Wed Oct 11 15:38:07 +0000 2017   \n",
      "\n",
      "                                                 text response_tweet_id  \\\n",
      "0   @AppleSupport causing the reply to be disregar...            119236   \n",
      "1   @105835 Your business means a lot to us. Pleas...               NaN   \n",
      "2   @76328 I really hope you all change but I'm su...            119238   \n",
      "3   @105836 LiveChat is online at the moment - htt...            119241   \n",
      "4   @VirginTrains see attached error message. I've...            119243   \n",
      "..                                                ...               ...   \n",
      "88  @105860 I wish Amazon had an option of where I...            119329   \n",
      "89  They reschedule my shit for tomorrow https://t...            119330   \n",
      "90  @105861 Hey Sara, sorry to hear of the issues ...            119333   \n",
      "91  @Tesco bit of both - finding the layout cumber...     119335,119336   \n",
      "92  @105861 If that doesn't help please DM your fu...               NaN   \n",
      "\n",
      "    in_response_to_tweet_id  \n",
      "0                       NaN  \n",
      "1                  119239.0  \n",
      "2                       NaN  \n",
      "3                  119242.0  \n",
      "4                  119240.0  \n",
      "..                      ...  \n",
      "88                 119331.0  \n",
      "89                      NaN  \n",
      "90                 119334.0  \n",
      "91                 119332.0  \n",
      "92                 119333.0  \n",
      "\n",
      "[93 rows x 7 columns]>\n"
     ]
    }
   ],
   "source": [
    "ds = pd.read_csv(\"./data/customer-support-on-twitter/sample.csv\")\n",
    "print(ds.head)"
   ]
  },
  {
   "cell_type": "code",
   "execution_count": null,
   "id": "588cf6f8",
   "metadata": {},
   "outputs": [],
   "source": []
  }
 ],
 "metadata": {
  "kernelspec": {
   "display_name": "Python 3 (ipykernel)",
   "language": "python",
   "name": "python3"
  },
  "language_info": {
   "codemirror_mode": {
    "name": "ipython",
    "version": 3
   },
   "file_extension": ".py",
   "mimetype": "text/x-python",
   "name": "python",
   "nbconvert_exporter": "python",
   "pygments_lexer": "ipython3",
   "version": "3.9.6"
  }
 },
 "nbformat": 4,
 "nbformat_minor": 5
}
